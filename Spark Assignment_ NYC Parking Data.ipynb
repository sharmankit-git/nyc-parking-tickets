{
 "cells": [
  {
   "cell_type": "markdown",
   "id": "2aeb7428",
   "metadata": {},
   "source": [
    "# PySpark - Analyzing NYC Parking Data"
   ]
  },
  {
   "cell_type": "markdown",
   "id": "82251aee",
   "metadata": {},
   "source": [
    "## Section 1. Examine Data\n",
    "### Q1. Find the total number of tickets for the year."
   ]
  },
  {
   "cell_type": "code",
   "execution_count": 1,
   "id": "7214c0fe",
   "metadata": {},
   "outputs": [
    {
     "data": {
      "application/vnd.jupyter.widget-view+json": {
       "model_id": "acbc75957c084ac39fcb8d201ad9ffc4",
       "version_major": 2,
       "version_minor": 0
      },
      "text/plain": [
       "VBox()"
      ]
     },
     "metadata": {},
     "output_type": "display_data"
    },
    {
     "name": "stdout",
     "output_type": "stream",
     "text": [
      "Starting Spark application\n"
     ]
    },
    {
     "data": {
      "text/html": [
       "<table>\n",
       "<tr><th>ID</th><th>YARN Application ID</th><th>Kind</th><th>State</th><th>Spark UI</th><th>Driver log</th><th>Current session?</th></tr><tr><td>4</td><td>application_1647323775098_0005</td><td>pyspark</td><td>idle</td><td><a target=\"_blank\" href=\"http://ip-10-0-0-206.ec2.internal:20888/proxy/application_1647323775098_0005/\" class=\"emr-proxy-link\" emr-resource=\"j-AILDKXHGLGG3\n",
       "\" application-id=\"application_1647323775098_0005\">Link</a></td><td><a target=\"_blank\" href=\"http://ip-10-0-0-220.ec2.internal:8042/node/containerlogs/container_1647323775098_0005_01_000001/livy\" >Link</a></td><td>✔</td></tr></table>"
      ],
      "text/plain": [
       "<IPython.core.display.HTML object>"
      ]
     },
     "metadata": {},
     "output_type": "display_data"
    },
    {
     "data": {
      "application/vnd.jupyter.widget-view+json": {
       "model_id": "",
       "version_major": 2,
       "version_minor": 0
      },
      "text/plain": [
       "FloatProgress(value=0.0, bar_style='info', description='Progress:', layout=Layout(height='25px', width='50%'),…"
      ]
     },
     "metadata": {},
     "output_type": "display_data"
    },
    {
     "name": "stdout",
     "output_type": "stream",
     "text": [
      "SparkSession available as 'spark'.\n"
     ]
    },
    {
     "data": {
      "application/vnd.jupyter.widget-view+json": {
       "model_id": "",
       "version_major": 2,
       "version_minor": 0
      },
      "text/plain": [
       "FloatProgress(value=0.0, bar_style='info', description='Progress:', layout=Layout(height='25px', width='50%'),…"
      ]
     },
     "metadata": {},
     "output_type": "display_data"
    }
   ],
   "source": [
    "#create a Spark session\n",
    "\n",
    "from pyspark.sql import SparkSession\n",
    "spark = SparkSession.builder.getOrCreate()"
   ]
  },
  {
   "cell_type": "code",
   "execution_count": 2,
   "id": "aef7d231",
   "metadata": {},
   "outputs": [
    {
     "data": {
      "application/vnd.jupyter.widget-view+json": {
       "model_id": "362206a003a8465b9c91c9c14864af32",
       "version_major": 2,
       "version_minor": 0
      },
      "text/plain": [
       "VBox()"
      ]
     },
     "metadata": {},
     "output_type": "display_data"
    },
    {
     "data": {
      "application/vnd.jupyter.widget-view+json": {
       "model_id": "",
       "version_major": 2,
       "version_minor": 0
      },
      "text/plain": [
       "FloatProgress(value=0.0, bar_style='info', description='Progress:', layout=Layout(height='25px', width='50%'),…"
      ]
     },
     "metadata": {},
     "output_type": "display_data"
    },
    {
     "name": "stdout",
     "output_type": "stream",
     "text": [
      "root\n",
      " |-- Summons Number: string (nullable = true)\n",
      " |-- Plate ID: string (nullable = true)\n",
      " |-- Registration State: string (nullable = true)\n",
      " |-- Plate Type: string (nullable = true)\n",
      " |-- Issue Date: string (nullable = true)\n",
      " |-- Violation Code: string (nullable = true)\n",
      " |-- Vehicle Body Type: string (nullable = true)\n",
      " |-- Vehicle Make: string (nullable = true)\n",
      " |-- Issuing Agency: string (nullable = true)\n",
      " |-- Street Code1: string (nullable = true)\n",
      " |-- Street Code2: string (nullable = true)\n",
      " |-- Street Code3: string (nullable = true)\n",
      " |-- Vehicle Expiration Date: string (nullable = true)\n",
      " |-- Violation Location: string (nullable = true)\n",
      " |-- Violation Precinct: string (nullable = true)\n",
      " |-- Issuer Precinct: string (nullable = true)\n",
      " |-- Issuer Code: string (nullable = true)\n",
      " |-- Issuer Command: string (nullable = true)\n",
      " |-- Issuer Squad: string (nullable = true)\n",
      " |-- Violation Time: string (nullable = true)\n",
      " |-- Time First Observed: string (nullable = true)\n",
      " |-- Violation County: string (nullable = true)\n",
      " |-- Violation In Front Of Or Opposite: string (nullable = true)\n",
      " |-- House Number: string (nullable = true)\n",
      " |-- Street Name: string (nullable = true)\n",
      " |-- Intersecting Street: string (nullable = true)\n",
      " |-- Date First Observed: string (nullable = true)\n",
      " |-- Law Section: string (nullable = true)\n",
      " |-- Sub Division: string (nullable = true)\n",
      " |-- Violation Legal Code: string (nullable = true)\n",
      " |-- Days Parking In Effect    : string (nullable = true)\n",
      " |-- From Hours In Effect: string (nullable = true)\n",
      " |-- To Hours In Effect: string (nullable = true)\n",
      " |-- Vehicle Color: string (nullable = true)\n",
      " |-- Unregistered Vehicle?: string (nullable = true)\n",
      " |-- Vehicle Year: string (nullable = true)\n",
      " |-- Meter Number: string (nullable = true)\n",
      " |-- Feet From Curb: string (nullable = true)\n",
      " |-- Violation Post Code: string (nullable = true)\n",
      " |-- Violation Description: string (nullable = true)\n",
      " |-- No Standing or Stopping Violation: string (nullable = true)\n",
      " |-- Hydrant Violation: string (nullable = true)\n",
      " |-- Double Parking Violation: string (nullable = true)"
     ]
    }
   ],
   "source": [
    "# S3 path to parking tickets data\n",
    "s3path = 's3a://upgrad-data/Parking_Violation_Tickets.csv'\n",
    "\n",
    "# Load the csv data and check the schema\n",
    "tickets = spark.read.format(\"csv\").option(\"header\", \"true\").load(s3path)\n",
    "tickets.printSchema()"
   ]
  },
  {
   "cell_type": "code",
   "execution_count": 3,
   "id": "5bc1a6c7",
   "metadata": {},
   "outputs": [
    {
     "data": {
      "application/vnd.jupyter.widget-view+json": {
       "model_id": "8bae20e8a2b742c5a04eafa7caba09fc",
       "version_major": 2,
       "version_minor": 0
      },
      "text/plain": [
       "VBox()"
      ]
     },
     "metadata": {},
     "output_type": "display_data"
    },
    {
     "data": {
      "application/vnd.jupyter.widget-view+json": {
       "model_id": "",
       "version_major": 2,
       "version_minor": 0
      },
      "text/plain": [
       "FloatProgress(value=0.0, bar_style='info', description='Progress:', layout=Layout(height='25px', width='50%'),…"
      ]
     },
     "metadata": {},
     "output_type": "display_data"
    },
    {
     "name": "stdout",
     "output_type": "stream",
     "text": [
      "+----------+\n",
      "|Issue Date|\n",
      "+----------+\n",
      "|07/10/2016|\n",
      "|07/08/2016|\n",
      "|08/23/2016|\n",
      "|06/14/2017|\n",
      "|11/21/2016|\n",
      "|06/13/2017|\n",
      "|08/03/2016|\n",
      "|12/21/2016|\n",
      "|11/21/2016|\n",
      "|10/05/2016|\n",
      "|01/11/2017|\n",
      "|09/27/2016|\n",
      "|10/27/2016|\n",
      "|09/30/2016|\n",
      "|02/04/2017|\n",
      "|07/07/2016|\n",
      "|09/24/2016|\n",
      "|01/26/2017|\n",
      "|04/30/2017|\n",
      "|02/03/2017|\n",
      "+----------+\n",
      "only showing top 20 rows"
     ]
    }
   ],
   "source": [
    "# Query to see if there are tickets belonging to years other than 2017\n",
    "tickets.select('Issue Date').show()"
   ]
  },
  {
   "cell_type": "code",
   "execution_count": 4,
   "id": "6da1a0c2",
   "metadata": {},
   "outputs": [
    {
     "data": {
      "application/vnd.jupyter.widget-view+json": {
       "model_id": "41fe20d37e304534bea5acdd7b4fbe71",
       "version_major": 2,
       "version_minor": 0
      },
      "text/plain": [
       "VBox()"
      ]
     },
     "metadata": {},
     "output_type": "display_data"
    },
    {
     "data": {
      "application/vnd.jupyter.widget-view+json": {
       "model_id": "",
       "version_major": 2,
       "version_minor": 0
      },
      "text/plain": [
       "FloatProgress(value=0.0, bar_style='info', description='Progress:', layout=Layout(height='25px', width='50%'),…"
      ]
     },
     "metadata": {},
     "output_type": "display_data"
    },
    {
     "name": "stdout",
     "output_type": "stream",
     "text": [
      "+----------+\n",
      "|Issue Date|\n",
      "+----------+\n",
      "|06/14/2017|\n",
      "|06/13/2017|\n",
      "|01/11/2017|\n",
      "|02/04/2017|\n",
      "|01/26/2017|\n",
      "|04/30/2017|\n",
      "|02/03/2017|\n",
      "|05/27/2017|\n",
      "|05/31/2017|\n",
      "|05/26/2017|\n",
      "|05/19/2017|\n",
      "|06/09/2017|\n",
      "|01/20/2017|\n",
      "|04/13/2017|\n",
      "|01/05/2017|\n",
      "|02/18/2017|\n",
      "|06/14/2017|\n",
      "|01/29/2017|\n",
      "|01/25/2017|\n",
      "|06/12/2017|\n",
      "+----------+\n",
      "only showing top 20 rows"
     ]
    }
   ],
   "source": [
    "# import sql functions\n",
    "from pyspark.sql.functions import *\n",
    "\n",
    "# filter the tickets whose issue date is in 2017 and verify the output\n",
    "tickets_df = tickets.filter(year(to_date(col('Issue Date'), \"MM/dd/yyyy\")) == 2017)\n",
    "tickets_df.select('Issue Date').show()"
   ]
  },
  {
   "cell_type": "code",
   "execution_count": 5,
   "id": "dd99b7eb",
   "metadata": {},
   "outputs": [
    {
     "data": {
      "application/vnd.jupyter.widget-view+json": {
       "model_id": "6918855030484132856abee49c706f07",
       "version_major": 2,
       "version_minor": 0
      },
      "text/plain": [
       "VBox()"
      ]
     },
     "metadata": {},
     "output_type": "display_data"
    },
    {
     "data": {
      "application/vnd.jupyter.widget-view+json": {
       "model_id": "",
       "version_major": 2,
       "version_minor": 0
      },
      "text/plain": [
       "FloatProgress(value=0.0, bar_style='info', description='Progress:', layout=Layout(height='25px', width='50%'),…"
      ]
     },
     "metadata": {},
     "output_type": "display_data"
    },
    {
     "name": "stdout",
     "output_type": "stream",
     "text": [
      "5431918"
     ]
    }
   ],
   "source": [
    "# Solution: Total number of tickets for the year\n",
    "tickets_df.count()"
   ]
  },
  {
   "cell_type": "markdown",
   "id": "70b74e78",
   "metadata": {},
   "source": [
    "### Q2. Find out the number of unique states from where the cars that got parking tickets came."
   ]
  },
  {
   "cell_type": "code",
   "execution_count": 6,
   "id": "22a5f614",
   "metadata": {},
   "outputs": [
    {
     "data": {
      "application/vnd.jupyter.widget-view+json": {
       "model_id": "5740a1a8f1aa4641b33fe7cc4bbbb70b",
       "version_major": 2,
       "version_minor": 0
      },
      "text/plain": [
       "VBox()"
      ]
     },
     "metadata": {},
     "output_type": "display_data"
    },
    {
     "data": {
      "application/vnd.jupyter.widget-view+json": {
       "model_id": "",
       "version_major": 2,
       "version_minor": 0
      },
      "text/plain": [
       "FloatProgress(value=0.0, bar_style='info', description='Progress:', layout=Layout(height='25px', width='50%'),…"
      ]
     },
     "metadata": {},
     "output_type": "display_data"
    },
    {
     "name": "stdout",
     "output_type": "stream",
     "text": [
      "+-------------+\n",
      "|Unique States|\n",
      "+-------------+\n",
      "|           65|\n",
      "+-------------+"
     ]
    }
   ],
   "source": [
    "# Solution: Number of unique states\n",
    "tickets_df.select(countDistinct('Registration State').alias(\"Unique States\")).show()"
   ]
  },
  {
   "cell_type": "markdown",
   "id": "25fc08d8",
   "metadata": {},
   "source": [
    "### Q3. There is a numeric entry '99' in the column, which should be corrected. Replace it with the state having the maximum entries. Provide the number of unique states again."
   ]
  },
  {
   "cell_type": "code",
   "execution_count": 7,
   "id": "6e8e45eb",
   "metadata": {},
   "outputs": [
    {
     "data": {
      "application/vnd.jupyter.widget-view+json": {
       "model_id": "3ba9b59715984c2e890c0e2994227f7f",
       "version_major": 2,
       "version_minor": 0
      },
      "text/plain": [
       "VBox()"
      ]
     },
     "metadata": {},
     "output_type": "display_data"
    },
    {
     "data": {
      "application/vnd.jupyter.widget-view+json": {
       "model_id": "",
       "version_major": 2,
       "version_minor": 0
      },
      "text/plain": [
       "FloatProgress(value=0.0, bar_style='info', description='Progress:', layout=Layout(height='25px', width='50%'),…"
      ]
     },
     "metadata": {},
     "output_type": "display_data"
    },
    {
     "name": "stdout",
     "output_type": "stream",
     "text": [
      "'NY'"
     ]
    }
   ],
   "source": [
    "# find states with maximum entries\n",
    "reg_state = tickets_df.groupBy('Registration State').count().sort(desc('count')).select('Registration State').first()['Registration State']\n",
    "reg_state"
   ]
  },
  {
   "cell_type": "code",
   "execution_count": 8,
   "id": "eb4e5f85",
   "metadata": {},
   "outputs": [
    {
     "data": {
      "application/vnd.jupyter.widget-view+json": {
       "model_id": "fd691aab0d7f441cbf8e2fcca4e6757c",
       "version_major": 2,
       "version_minor": 0
      },
      "text/plain": [
       "VBox()"
      ]
     },
     "metadata": {},
     "output_type": "display_data"
    },
    {
     "data": {
      "application/vnd.jupyter.widget-view+json": {
       "model_id": "",
       "version_major": 2,
       "version_minor": 0
      },
      "text/plain": [
       "FloatProgress(value=0.0, bar_style='info', description='Progress:', layout=Layout(height='25px', width='50%'),…"
      ]
     },
     "metadata": {},
     "output_type": "display_data"
    },
    {
     "name": "stdout",
     "output_type": "stream",
     "text": [
      "+-------------+\n",
      "|Unique States|\n",
      "+-------------+\n",
      "|           64|\n",
      "+-------------+"
     ]
    }
   ],
   "source": [
    "# Replace '99' with the state having maxmimum entries i.e. NY\n",
    "tickets_df = tickets_df.withColumn('Registration State', when(col('Registration State') == \"99\", reg_state).otherwise(col('Registration State')))\n",
    "\n",
    "# Find number of unique states again.\n",
    "tickets_df.select(countDistinct('Registration State').alias(\"Unique States\")).show()"
   ]
  },
  {
   "cell_type": "markdown",
   "id": "21b41a49",
   "metadata": {},
   "source": [
    "### Q4. Display the top 20 states with the most number of tickets along with their ticket count."
   ]
  },
  {
   "cell_type": "code",
   "execution_count": 9,
   "id": "5d850313",
   "metadata": {},
   "outputs": [
    {
     "data": {
      "application/vnd.jupyter.widget-view+json": {
       "model_id": "901ebcda99324bbe9086b33cf17bb2d5",
       "version_major": 2,
       "version_minor": 0
      },
      "text/plain": [
       "VBox()"
      ]
     },
     "metadata": {},
     "output_type": "display_data"
    },
    {
     "data": {
      "application/vnd.jupyter.widget-view+json": {
       "model_id": "",
       "version_major": 2,
       "version_minor": 0
      },
      "text/plain": [
       "FloatProgress(value=0.0, bar_style='info', description='Progress:', layout=Layout(height='25px', width='50%'),…"
      ]
     },
     "metadata": {},
     "output_type": "display_data"
    },
    {
     "name": "stdout",
     "output_type": "stream",
     "text": [
      "+------------------+-------+\n",
      "|Registration State|  count|\n",
      "+------------------+-------+\n",
      "|                NY|4290006|\n",
      "|                NJ| 475825|\n",
      "|                PA| 140286|\n",
      "|                CT|  70403|\n",
      "|                FL|  69468|\n",
      "|                IN|  45525|\n",
      "|                MA|  38941|\n",
      "|                VA|  34367|\n",
      "|                MD|  30213|\n",
      "|                NC|  27152|\n",
      "|                TX|  18827|\n",
      "|                IL|  18666|\n",
      "|                GA|  17537|\n",
      "|                AZ|  12379|\n",
      "|                OH|  12281|\n",
      "|                CA|  12153|\n",
      "|                ME|  10806|\n",
      "|                SC|  10395|\n",
      "|                MN|  10083|\n",
      "|                OK|   9088|\n",
      "+------------------+-------+\n",
      "only showing top 20 rows"
     ]
    }
   ],
   "source": [
    "# Solution: Please note that every Summons Number will belong to a unique Registration State, therefore querying just on Registration state will get the result.\n",
    "tickets_df.groupBy('Registration State').count().sort(desc('count')).show(20)"
   ]
  },
  {
   "cell_type": "markdown",
   "id": "da117292",
   "metadata": {},
   "source": [
    "## Section 2. Aggregation tasks\n",
    "### Q1. How often does each violation code occur? Display the frequency of the top five violation codes."
   ]
  },
  {
   "cell_type": "code",
   "execution_count": 10,
   "id": "09a367e6",
   "metadata": {
    "scrolled": true
   },
   "outputs": [
    {
     "data": {
      "application/vnd.jupyter.widget-view+json": {
       "model_id": "d159afdb245945beb3e7eab25f599d50",
       "version_major": 2,
       "version_minor": 0
      },
      "text/plain": [
       "VBox()"
      ]
     },
     "metadata": {},
     "output_type": "display_data"
    },
    {
     "data": {
      "application/vnd.jupyter.widget-view+json": {
       "model_id": "",
       "version_major": 2,
       "version_minor": 0
      },
      "text/plain": [
       "FloatProgress(value=0.0, bar_style='info', description='Progress:', layout=Layout(height='25px', width='50%'),…"
      ]
     },
     "metadata": {},
     "output_type": "display_data"
    },
    {
     "name": "stdout",
     "output_type": "stream",
     "text": [
      "+--------------+---------+\n",
      "|Violation Code|frequency|\n",
      "+--------------+---------+\n",
      "|            21|   768087|\n",
      "|            36|   662765|\n",
      "|            38|   542079|\n",
      "|            14|   476664|\n",
      "|            20|   319646|\n",
      "+--------------+---------+\n",
      "only showing top 5 rows"
     ]
    }
   ],
   "source": [
    "# Solution:\n",
    "tickets_df.groupBy('Violation Code').count().withColumnRenamed('count', 'frequency').sort(desc('frequency')).show(5)"
   ]
  },
  {
   "cell_type": "markdown",
   "id": "60482d4d",
   "metadata": {},
   "source": [
    "### Q2. How often does each 'vehicle body type' get a parking ticket? How about the 'vehicle make'? Find the top 5 for both."
   ]
  },
  {
   "cell_type": "code",
   "execution_count": 11,
   "id": "c09787bf",
   "metadata": {},
   "outputs": [
    {
     "data": {
      "application/vnd.jupyter.widget-view+json": {
       "model_id": "7ebf8bc383a54e10bcf1cccf76d47879",
       "version_major": 2,
       "version_minor": 0
      },
      "text/plain": [
       "VBox()"
      ]
     },
     "metadata": {},
     "output_type": "display_data"
    },
    {
     "data": {
      "application/vnd.jupyter.widget-view+json": {
       "model_id": "",
       "version_major": 2,
       "version_minor": 0
      },
      "text/plain": [
       "FloatProgress(value=0.0, bar_style='info', description='Progress:', layout=Layout(height='25px', width='50%'),…"
      ]
     },
     "metadata": {},
     "output_type": "display_data"
    },
    {
     "name": "stdout",
     "output_type": "stream",
     "text": [
      "+-----------------+-------+\n",
      "|Vehicle Body Type|  count|\n",
      "+-----------------+-------+\n",
      "|             SUBN|1883954|\n",
      "|             4DSD|1547312|\n",
      "|              VAN| 724029|\n",
      "|             DELV| 358984|\n",
      "|              SDN| 194197|\n",
      "+-----------------+-------+\n",
      "only showing top 5 rows"
     ]
    }
   ],
   "source": [
    "#Solution: Top 5 for Vehicle Body Type\n",
    "tickets_df.groupBy('Vehicle Body Type').count().sort(desc('count')).show(5)"
   ]
  },
  {
   "cell_type": "code",
   "execution_count": 12,
   "id": "5e2a81a9",
   "metadata": {},
   "outputs": [
    {
     "data": {
      "application/vnd.jupyter.widget-view+json": {
       "model_id": "83937008d9794e70b768eb721eb51289",
       "version_major": 2,
       "version_minor": 0
      },
      "text/plain": [
       "VBox()"
      ]
     },
     "metadata": {},
     "output_type": "display_data"
    },
    {
     "data": {
      "application/vnd.jupyter.widget-view+json": {
       "model_id": "",
       "version_major": 2,
       "version_minor": 0
      },
      "text/plain": [
       "FloatProgress(value=0.0, bar_style='info', description='Progress:', layout=Layout(height='25px', width='50%'),…"
      ]
     },
     "metadata": {},
     "output_type": "display_data"
    },
    {
     "name": "stdout",
     "output_type": "stream",
     "text": [
      "+------------+------+\n",
      "|Vehicle Make| count|\n",
      "+------------+------+\n",
      "|        FORD|636844|\n",
      "|       TOYOT|605291|\n",
      "|       HONDA|538884|\n",
      "|       NISSA|462017|\n",
      "|       CHEVR|356032|\n",
      "+------------+------+\n",
      "only showing top 5 rows"
     ]
    }
   ],
   "source": [
    "#Solution: Top 5 for Vehicle Make\n",
    "tickets_df.groupBy('Vehicle Make').count().sort(desc('count')).show(5)"
   ]
  },
  {
   "cell_type": "markdown",
   "id": "e2244ddd",
   "metadata": {},
   "source": [
    "### Q3. Let’s try and find some seasonality in this data:\n",
    "#### Step 1. First, divide the year into 4 seasons, and find the frequencies of tickets for each season."
   ]
  },
  {
   "cell_type": "code",
   "execution_count": 13,
   "id": "8d974c6b",
   "metadata": {},
   "outputs": [
    {
     "data": {
      "application/vnd.jupyter.widget-view+json": {
       "model_id": "12e43264f5c544ec9df8aae3ce4abef8",
       "version_major": 2,
       "version_minor": 0
      },
      "text/plain": [
       "VBox()"
      ]
     },
     "metadata": {},
     "output_type": "display_data"
    },
    {
     "data": {
      "application/vnd.jupyter.widget-view+json": {
       "model_id": "",
       "version_major": 2,
       "version_minor": 0
      },
      "text/plain": [
       "FloatProgress(value=0.0, bar_style='info', description='Progress:', layout=Layout(height='25px', width='50%'),…"
      ]
     },
     "metadata": {},
     "output_type": "display_data"
    },
    {
     "name": "stdout",
     "output_type": "stream",
     "text": [
      "+----------+------+\n",
      "|Issue Date|Season|\n",
      "+----------+------+\n",
      "|06/14/2017|Spring|\n",
      "|06/13/2017|Spring|\n",
      "|01/11/2017|Winter|\n",
      "|02/04/2017|Winter|\n",
      "|01/26/2017|Winter|\n",
      "|04/30/2017|Spring|\n",
      "|02/03/2017|Winter|\n",
      "|05/27/2017|Spring|\n",
      "|05/31/2017|Spring|\n",
      "|05/26/2017|Spring|\n",
      "|05/19/2017|Spring|\n",
      "|06/09/2017|Spring|\n",
      "|01/20/2017|Winter|\n",
      "|04/13/2017|Spring|\n",
      "|01/05/2017|Winter|\n",
      "|02/18/2017|Winter|\n",
      "|06/14/2017|Spring|\n",
      "|01/29/2017|Winter|\n",
      "|01/25/2017|Winter|\n",
      "|06/12/2017|Spring|\n",
      "+----------+------+\n",
      "only showing top 20 rows"
     ]
    }
   ],
   "source": [
    "# creating a season column and assigning seasons based on month\n",
    "tickets_df = tickets_df.withColumn(\"Month\", month(to_date(col('Issue Date'), \"MM/dd/yyyy\"))).withColumn(\"Season\", when(col('Month') > 9, \"Autumn\")\n",
    "                                .when(col('Month') > 6, \"Summer\")\n",
    "                                .when(col('Month') > 3, \"Spring\")\n",
    "                                .otherwise(\"Winter\")).drop(\"Month\")\n",
    "\n",
    "# show to verify data\n",
    "tickets_df.select('Issue Date', 'Season').show()"
   ]
  },
  {
   "cell_type": "markdown",
   "id": "21580bd6",
   "metadata": {},
   "source": [
    "#### Step 2. Then, find the three most common violations for each of these seasons."
   ]
  },
  {
   "cell_type": "code",
   "execution_count": 14,
   "id": "44ab8e00",
   "metadata": {},
   "outputs": [
    {
     "data": {
      "application/vnd.jupyter.widget-view+json": {
       "model_id": "aeb487ad4af64d838889a6d8f5cd1924",
       "version_major": 2,
       "version_minor": 0
      },
      "text/plain": [
       "VBox()"
      ]
     },
     "metadata": {},
     "output_type": "display_data"
    },
    {
     "data": {
      "application/vnd.jupyter.widget-view+json": {
       "model_id": "",
       "version_major": 2,
       "version_minor": 0
      },
      "text/plain": [
       "FloatProgress(value=0.0, bar_style='info', description='Progress:', layout=Layout(height='25px', width='50%'),…"
      ]
     },
     "metadata": {},
     "output_type": "display_data"
    },
    {
     "name": "stdout",
     "output_type": "stream",
     "text": [
      "+------+--------------+------+\n",
      "|Season|Violation Code| count|\n",
      "+------+--------------+------+\n",
      "|Winter|            21|373874|\n",
      "|Winter|            36|348240|\n",
      "|Winter|            38|287000|\n",
      "+------+--------------+------+\n",
      "only showing top 3 rows\n",
      "\n",
      "+------+--------------+------+\n",
      "|Season|Violation Code| count|\n",
      "+------+--------------+------+\n",
      "|Spring|            21|393885|\n",
      "|Spring|            36|314525|\n",
      "|Spring|            38|255064|\n",
      "+------+--------------+------+\n",
      "only showing top 3 rows\n",
      "\n",
      "+------+--------------+-----+\n",
      "|Season|Violation Code|count|\n",
      "+------+--------------+-----+\n",
      "|Summer|            21|  228|\n",
      "|Summer|            46|  219|\n",
      "|Summer|            40|  109|\n",
      "+------+--------------+-----+\n",
      "only showing top 3 rows\n",
      "\n",
      "+------+--------------+-----+\n",
      "|Season|Violation Code|count|\n",
      "+------+--------------+-----+\n",
      "|Autumn|            46|  219|\n",
      "|Autumn|            40|  121|\n",
      "|Autumn|            21|  100|\n",
      "+------+--------------+-----+\n",
      "only showing top 3 rows"
     ]
    }
   ],
   "source": [
    "# Solution: Winter\n",
    "tickets_df.groupBy('Season', 'Violation Code').count().sort(desc('count')).filter(col('Season') == \"Winter\").show(3)\n",
    "\n",
    "# Solution: Spring\n",
    "tickets_df.groupBy('Season', 'Violation Code').count().sort(desc('count')).filter(col('Season') == \"Spring\").show(3)\n",
    "\n",
    "# Solution: Summer\n",
    "tickets_df.groupBy('Season', 'Violation Code').count().sort(desc('count')).filter(col('Season') == \"Summer\").show(3)\n",
    "\n",
    "# Solution: Autumn\n",
    "tickets_df.groupBy('Season', 'Violation Code').count().sort(desc('count')).filter(col('Season') == \"Autumn\").show(3)"
   ]
  },
  {
   "cell_type": "markdown",
   "id": "07268ac8",
   "metadata": {},
   "source": [
    "### Q4. The fines collected from all the instances of parking violation constitute a source of revenue for the NYC Police Department. Let’s take an example of estimating this for the three most commonly occurring codes:\n",
    "#### Step 1. Find the total occurrences of the three most common violation codes."
   ]
  },
  {
   "cell_type": "code",
   "execution_count": 15,
   "id": "371f77f3",
   "metadata": {},
   "outputs": [
    {
     "data": {
      "application/vnd.jupyter.widget-view+json": {
       "model_id": "eb5f88b9ab3e4f608e5dc3aa663ae423",
       "version_major": 2,
       "version_minor": 0
      },
      "text/plain": [
       "VBox()"
      ]
     },
     "metadata": {},
     "output_type": "display_data"
    },
    {
     "data": {
      "application/vnd.jupyter.widget-view+json": {
       "model_id": "",
       "version_major": 2,
       "version_minor": 0
      },
      "text/plain": [
       "FloatProgress(value=0.0, bar_style='info', description='Progress:', layout=Layout(height='25px', width='50%'),…"
      ]
     },
     "metadata": {},
     "output_type": "display_data"
    },
    {
     "name": "stdout",
     "output_type": "stream",
     "text": [
      "+--------------+------+\n",
      "|Violation Code| count|\n",
      "+--------------+------+\n",
      "|            21|768087|\n",
      "|            36|662765|\n",
      "|            38|542079|\n",
      "+--------------+------+"
     ]
    }
   ],
   "source": [
    "# Creating a new df to do calculations based on revenue for which count will be required for the next steps.\n",
    "amount_collection = tickets_df.groupBy('Violation Code').count().sort(desc('count')).limit(3)\n",
    "\n",
    "# Solution: Top 3 violation codes\n",
    "amount_collection.show()"
   ]
  },
  {
   "cell_type": "markdown",
   "id": "ba5ab66e",
   "metadata": {},
   "source": [
    "#### Step 2. Then, visit the website: http://www1.nyc.gov/site/finance/vehicles/services-violation-codes.page It lists the fines associated with different violation codes. They’re divided into two categories: one for the highest-density locations in the city and the other for the rest of the city. For the sake of simplicity, take the average of the two.\n",
    "#### Step 3. Using this information, find the total amount collected for each of the three violation codes with the maximum tickets. State the code that has the highest total collection (only based on the top 3 tickets)."
   ]
  },
  {
   "cell_type": "code",
   "execution_count": 16,
   "id": "c673d0de",
   "metadata": {},
   "outputs": [
    {
     "data": {
      "application/vnd.jupyter.widget-view+json": {
       "model_id": "083f756d38624cf9995216c567023168",
       "version_major": 2,
       "version_minor": 0
      },
      "text/plain": [
       "VBox()"
      ]
     },
     "metadata": {},
     "output_type": "display_data"
    },
    {
     "data": {
      "application/vnd.jupyter.widget-view+json": {
       "model_id": "",
       "version_major": 2,
       "version_minor": 0
      },
      "text/plain": [
       "FloatProgress(value=0.0, bar_style='info', description='Progress:', layout=Layout(height='25px', width='50%'),…"
      ]
     },
     "metadata": {},
     "output_type": "display_data"
    },
    {
     "name": "stdout",
     "output_type": "stream",
     "text": [
      "+--------------+------+----------+\n",
      "|Violation Code| count|Collection|\n",
      "+--------------+------+----------+\n",
      "|            21|768087|  49925655|\n",
      "|            36|662765|  33138250|\n",
      "|            38|542079|  27103950|\n",
      "+--------------+------+----------+"
     ]
    }
   ],
   "source": [
    "# Create collection column to hold the total collected amount for each of the top 3 violation codes\n",
    "# Violation Code 21 - $65\n",
    "# Violation Code 36 - $50\n",
    "# Violation Code 38 - $50 (avg.)\n",
    "amount_collection = amount_collection.withColumn('Collection', when(col('Violation Code') == 21, col('count') * 65)\n",
    "                                                .when(col('Violation Code') == 36, col('count') * 50)\n",
    "                                                .when(col('Violation Code') == 38, col('count') * 50))\n",
    "# Solution: Total amount collected for each of the top 3 violations\n",
    "amount_collection.show()"
   ]
  },
  {
   "cell_type": "code",
   "execution_count": 17,
   "id": "bbd19708",
   "metadata": {},
   "outputs": [
    {
     "data": {
      "application/vnd.jupyter.widget-view+json": {
       "model_id": "eefa8f25aa37483ca850dc59fbd3b655",
       "version_major": 2,
       "version_minor": 0
      },
      "text/plain": [
       "VBox()"
      ]
     },
     "metadata": {},
     "output_type": "display_data"
    },
    {
     "data": {
      "application/vnd.jupyter.widget-view+json": {
       "model_id": "",
       "version_major": 2,
       "version_minor": 0
      },
      "text/plain": [
       "FloatProgress(value=0.0, bar_style='info', description='Progress:', layout=Layout(height='25px', width='50%'),…"
      ]
     },
     "metadata": {},
     "output_type": "display_data"
    },
    {
     "name": "stdout",
     "output_type": "stream",
     "text": [
      "+--------------------------------------------+\n",
      "|Violation Code with highest total collection|\n",
      "+--------------------------------------------+\n",
      "|                                          21|\n",
      "+--------------------------------------------+"
     ]
    }
   ],
   "source": [
    "#Solution: Violation code that has highest total collection\n",
    "amount_collection.select(col('Violation Code').alias('Violation Code with highest total collection')).where(col('Collection') == amount_collection.groupBy().max('Collection').first()['max(Collection)']).show()"
   ]
  },
  {
   "cell_type": "markdown",
   "id": "c8c8b603",
   "metadata": {},
   "source": [
    "#### Step 4. Find the top 3 states that have the highest ticket revenue based on the top 3 violation codes alone."
   ]
  },
  {
   "cell_type": "code",
   "execution_count": 18,
   "id": "961d5bf3",
   "metadata": {},
   "outputs": [
    {
     "data": {
      "application/vnd.jupyter.widget-view+json": {
       "model_id": "67b9c72e47f8429298b73152dc298dc1",
       "version_major": 2,
       "version_minor": 0
      },
      "text/plain": [
       "VBox()"
      ]
     },
     "metadata": {},
     "output_type": "display_data"
    },
    {
     "data": {
      "application/vnd.jupyter.widget-view+json": {
       "model_id": "",
       "version_major": 2,
       "version_minor": 0
      },
      "text/plain": [
       "FloatProgress(value=0.0, bar_style='info', description='Progress:', layout=Layout(height='25px', width='50%'),…"
      ]
     },
     "metadata": {},
     "output_type": "display_data"
    },
    {
     "name": "stdout",
     "output_type": "stream",
     "text": [
      "+------------------+------------+\n",
      "|Registration State|sum(Revenue)|\n",
      "+------------------+------------+\n",
      "|                NY|    87901590|\n",
      "|                NJ|     7368020|\n",
      "|                PA|     3413995|\n",
      "+------------------+------------+\n",
      "only showing top 3 rows"
     ]
    }
   ],
   "source": [
    "#Solution: create revenue column and for each violation code assign revenue for each state and show top 3\n",
    "tickets_df.filter(col('Violation Code').isin(21, 36, 38)).groupBy('Registration State', 'Violation Code').count().withColumn(\"Revenue\", when(col('Violation Code') == 21, col('count') * 65)\n",
    "                                                                                                                            .when(col('Violation Code') == 36, col('count') * 50)\n",
    "                                                                                                                            .when(col('Violation Code') == 38, col('count') * 50)).groupBy('Registration State').sum('Revenue').sort(desc('sum(Revenue)')).show(3)"
   ]
  },
  {
   "cell_type": "markdown",
   "id": "997a2fd0",
   "metadata": {},
   "source": [
    "#### Step 5. What can you intuitively infer from these findings?"
   ]
  },
  {
   "cell_type": "markdown",
   "id": "67b4c25e",
   "metadata": {},
   "source": [
    "1. A lot of vehicles registered in NJ and PA visit NYC\n",
    "2. Violation code 21 is the highest for all seasons except for Autumn\n",
    "3. Violation codes occur in the same order during Winter and Spring"
   ]
  }
 ],
 "metadata": {
  "kernelspec": {
   "display_name": "PySpark",
   "language": "",
   "name": "pysparkkernel"
  },
  "language_info": {
   "codemirror_mode": {
    "name": "python",
    "version": 3
   },
   "mimetype": "text/x-python",
   "name": "pyspark",
   "pygments_lexer": "python3"
  }
 },
 "nbformat": 4,
 "nbformat_minor": 5
}
